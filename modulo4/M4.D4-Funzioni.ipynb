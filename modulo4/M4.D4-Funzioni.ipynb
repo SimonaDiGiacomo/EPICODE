{
 "cells": [
  {
   "cell_type": "code",
   "execution_count": 1,
   "id": "98155005-74ec-4d77-a612-6607ecefc096",
   "metadata": {},
   "outputs": [
    {
     "name": "stdout",
     "output_type": "stream",
     "text": [
      "- E\n",
      "- p\n",
      "- i\n",
      "- c\n",
      "- o\n",
      "- d\n",
      "- e\n"
     ]
    }
   ],
   "source": [
    "nome_scuola = \"Epicode\"\n",
    "\n",
    "for lettera in nome_scuola:\n",
    "    print(\"-\", lettera)"
   ]
  },
  {
   "cell_type": "code",
   "execution_count": 2,
   "id": "214876c8-3e56-4268-b674-4d7e0bc3b0e3",
   "metadata": {},
   "outputs": [
    {
     "name": "stdout",
     "output_type": "stream",
     "text": [
      "Elenco elementi chimici:\n",
      "- N\n",
      "- P\n",
      "- K\n",
      "- O\n",
      "- H\n",
      "- C\n"
     ]
    }
   ],
   "source": [
    "elementi = \"NPKOHC\"\n",
    "print(\"Elenco elementi chimici:\")\n",
    "\n",
    "for elemento in elementi:\n",
    "    print(\"-\",elemento)"
   ]
  },
  {
   "cell_type": "code",
   "execution_count": 3,
   "id": "2d563378-4eed-4d32-bc86-62ee814fe583",
   "metadata": {},
   "outputs": [
    {
     "name": "stdout",
     "output_type": "stream",
     "text": [
      "Elenco elementi chimici:\n",
      "1.N\n",
      "2.P\n",
      "3.K\n",
      "4.O\n",
      "5.H\n",
      "6.C\n"
     ]
    }
   ],
   "source": [
    "elementi = \"NPKOHC\"\n",
    "contatore = 0\n",
    "print(\"Elenco elementi chimici:\")\n",
    "\n",
    "for conatatore,elemento in enumerate(elementi):\n",
    "    contatore +=1\n",
    "    print(contatore,\".\",elemento,sep=\"\")"
   ]
  },
  {
   "cell_type": "code",
   "execution_count": 12,
   "id": "975ace50-70cf-4190-8381-695737f20833",
   "metadata": {},
   "outputs": [
    {
     "name": "stdout",
     "output_type": "stream",
     "text": [
      "mermeleda\n"
     ]
    }
   ],
   "source": [
    "#METODO STRINGHE\n",
    "\n",
    "x = \"marmalade\"\n",
    "x = x.replace(\"e\",\"*\").replace(\"a\",\"e\").replace(\"*\",\"a\")\n",
    "print(x)"
   ]
  },
  {
   "cell_type": "code",
   "execution_count": 13,
   "id": "438ef0d1-6934-40d5-ae12-a4d80bf7cf9c",
   "metadata": {},
   "outputs": [
    {
     "name": "stdout",
     "output_type": "stream",
     "text": [
      "mermeleda\n"
     ]
    }
   ],
   "source": [
    "#CICLO FOR\n",
    "\n",
    "x = \"marmalade\"\n",
    "xlista = list(x)\n",
    "\n",
    "for l in range(len(xlista)):\n",
    "    if xlista[l] == \"e\":\n",
    "        xlista[l] = \"a\"\n",
    "    elif xlista[l] == \"a\" :\n",
    "        xlista[l] = \"e\"\n",
    "\n",
    "x =\"\".join(xlista)\n",
    "print(x)"
   ]
  },
  {
   "cell_type": "code",
   "execution_count": 14,
   "id": "885b63ae-6fc4-4bd1-9a00-5b39cad3539a",
   "metadata": {},
   "outputs": [
    {
     "name": "stdout",
     "output_type": "stream",
     "text": [
      "mermeleda\n"
     ]
    }
   ],
   "source": [
    "#CICLO WHILE\n",
    "\n",
    "index = 0\n",
    "\n",
    "x = \"marmalade\"\n",
    "listax = list(x)\n",
    "\n",
    "i = 0\n",
    "\n",
    "while i < len(listax):\n",
    "    if listax[i] == \"e\":\n",
    "        listax[i] = \"a\"\n",
    "        i += 1\n",
    "    elif listax[i] == \"a\":\n",
    "        listax[i] = \"e\"\n",
    "    i += 1\n",
    "\n",
    "x = \"\".join(listax)\n",
    "print(x)"
   ]
  },
  {
   "cell_type": "code",
   "execution_count": 16,
   "id": "f9d58dcf-f8bc-42ce-8e30-df3b8918e9d2",
   "metadata": {},
   "outputs": [
    {
     "name": "stdout",
     "output_type": "stream",
     "text": [
      "Prime 10 potenze di 2:\n",
      "- 1\n",
      "- 2\n",
      "- 4\n",
      "- 8\n",
      "- 16\n",
      "- 32\n",
      "- 64\n",
      "- 128\n",
      "- 256\n",
      "- 512\n",
      "- 1024\n"
     ]
    }
   ],
   "source": [
    "print(\"Prime 10 potenze di 2:\")\n",
    "\n",
    "for esponente in range(0,11):\n",
    "    print(\"-\",2**esponente)"
   ]
  },
  {
   "cell_type": "code",
   "execution_count": 17,
   "id": "a2811d3c-d26b-45f2-ba60-d981182cd0d4",
   "metadata": {},
   "outputs": [
    {
     "name": "stdout",
     "output_type": "stream",
     "text": [
      "Prime 10 potenze di 2:\n",
      "[1, 2, 4, 8, 16, 32, 64, 128, 256, 512, 1024]\n"
     ]
    }
   ],
   "source": [
    "#CICLO FOR\n",
    "\n",
    "potenze_2 = []\n",
    "print(\"Prime 10 potenze di 2:\")\n",
    "\n",
    "for esponente in range(0,11):\n",
    "    potenze_2.append(2**esponente)\n",
    "    \n",
    "print(potenze_2)"
   ]
  },
  {
   "cell_type": "code",
   "execution_count": 18,
   "id": "1ebd42ab-fa7b-48e1-8929-247aa321e9c0",
   "metadata": {},
   "outputs": [
    {
     "name": "stdout",
     "output_type": "stream",
     "text": [
      "Prime 10 potenze di 2:\n",
      "[1, 2, 4, 8, 16, 32, 64, 128, 256, 512, 1024]\n"
     ]
    }
   ],
   "source": [
    "#CICLO WHILE\n",
    "\n",
    "potenze_2 = []\n",
    "e = 0\n",
    "\n",
    "print(\"Prime 10 potenze di 2:\")\n",
    "\n",
    "while e < 11:\n",
    "    potenze_2.append(2**e)\n",
    "    e +=1\n",
    "    \n",
    "print(potenze_2)"
   ]
  },
  {
   "cell_type": "code",
   "execution_count": 19,
   "id": "442bc296-9882-4d15-a120-6008356de64a",
   "metadata": {},
   "outputs": [
    {
     "name": "stdout",
     "output_type": "stream",
     "text": [
      "Prime N potenze di 3:\n",
      "[1, 3, 9, 27, 81, 243]\n"
     ]
    }
   ],
   "source": [
    "#CICLO FOR\n",
    "\n",
    "potenze_3 = []\n",
    "print(\"Prime N potenze di 3:\")\n",
    "\n",
    "for esponente in range(6):\n",
    "    potenze_3.append(3**esponente)\n",
    "    \n",
    "print(potenze_3)"
   ]
  },
  {
   "cell_type": "code",
   "execution_count": 21,
   "id": "e94ad36a-a277-4e92-ac22-7ac6ddb094db",
   "metadata": {},
   "outputs": [
    {
     "name": "stdout",
     "output_type": "stream",
     "text": [
      "Prime N potenze di 3:\n",
      "[1, 3, 9, 27, 81, 243]\n"
     ]
    }
   ],
   "source": [
    "#CICLO WHILE\n",
    "\n",
    "potenze_3 = []\n",
    "e = 0\n",
    "\n",
    "print(\"Prime N potenze di 3:\")\n",
    "\n",
    "while e < 6:\n",
    "    potenze_3.append(3**e)\n",
    "    e +=1\n",
    "    \n",
    "print(potenze_3)"
   ]
  },
  {
   "cell_type": "code",
   "execution_count": 22,
   "id": "e8673be0-c609-4637-8347-c31c925c1fd0",
   "metadata": {},
   "outputs": [
    {
     "name": "stdin",
     "output_type": "stream",
     "text": [
      "Inserisci quante N potenze vuoi calcolare: 6\n",
      "Inserisci il numero di cuoi vuoi calcolare N potenze: 3\n"
     ]
    },
    {
     "name": "stdout",
     "output_type": "stream",
     "text": [
      "[1, 3, 9, 27, 81, 243]\n"
     ]
    }
   ],
   "source": [
    "#CICLO FOR\n",
    "\n",
    "N = int(input(\"Inserisci quante N potenze vuoi calcolare:\"))\n",
    "K = int(input(\"Inserisci il numero di cuoi vuoi calcolare N potenze:\"))\n",
    "potenze_K = []\n",
    "\n",
    "for i in range(N):\n",
    "    potenze_K.append(K**i)\n",
    "    \n",
    "print(potenze_K)"
   ]
  },
  {
   "cell_type": "code",
   "execution_count": 23,
   "id": "74e57e17-460b-4bc6-864b-1e2f4f79830d",
   "metadata": {},
   "outputs": [
    {
     "name": "stdin",
     "output_type": "stream",
     "text": [
      "Inserisci quante N potenze vuoi calcolare: 5\n",
      "Inserisci il numero di cuoi vuoi calcolare N potenze: 2\n"
     ]
    },
    {
     "name": "stdout",
     "output_type": "stream",
     "text": [
      "[1, 2, 4, 8, 16]\n"
     ]
    }
   ],
   "source": [
    "#CICLO WHILE\n",
    "\n",
    "N = int(input(\"Inserisci quante N potenze vuoi calcolare:\"))\n",
    "K = int(input(\"Inserisci il numero di cuoi vuoi calcolare N potenze:\"))\n",
    "potenze_K = []\n",
    "contatore = 0\n",
    "\n",
    "while contatore < N:\n",
    "    potenze_K.append(K**contatore)\n",
    "    contatore +=1\n",
    "    \n",
    "print(potenze_K)"
   ]
  },
  {
   "cell_type": "code",
   "execution_count": 26,
   "id": "fe90c58c-c649-4472-94d6-3564d666f45e",
   "metadata": {},
   "outputs": [
    {
     "name": "stdout",
     "output_type": "stream",
     "text": [
      "Potenze di 2 minori di 25000:\n",
      "[1, 2, 4, 8, 16, 32, 64, 128, 256, 512, 1024, 2048, 4096, 8192, 16384]\n"
     ]
    }
   ],
   "source": [
    "#CICLO FOR\n",
    "potenze_2 = []\n",
    "print (\"Potenze di 2 minori di 25000:\")\n",
    "\n",
    "for i in range(2000):\n",
    "    if 2**i < 25000:\n",
    "        potenze_2.append (2**i)\n",
    "    \n",
    "print(potenze_2)"
   ]
  },
  {
   "cell_type": "code",
   "execution_count": 32,
   "id": "50477569-70b5-417a-8b71-00ee9739d5d4",
   "metadata": {},
   "outputs": [
    {
     "name": "stdin",
     "output_type": "stream",
     "text": [
      "Inserisci quante N potenze vuoi calcolare: 10\n"
     ]
    },
    {
     "name": "stdout",
     "output_type": "stream",
     "text": [
      "Potenze di 2 minori di N:\n",
      "[1, 2, 4, 8, 16, 32, 64, 128, 256, 512]\n"
     ]
    }
   ],
   "source": [
    "#CICLO WHILE\n",
    "\n",
    "N = int(input(\"Inserisci quante N potenze vuoi calcolare:\"))\n",
    "potenze_2 = []\n",
    "contatore = 0\n",
    "print (\"Potenze di 2 minori di N:\")\n",
    "\n",
    "while contatore < N:\n",
    "    potenze_2.append(2**contatore)\n",
    "    contatore +=1\n",
    "    \n",
    "print(potenze_2)"
   ]
  },
  {
   "cell_type": "code",
   "execution_count": 33,
   "id": "a9aaf3a9-6b81-49a8-adb4-f1217fe2151a",
   "metadata": {},
   "outputs": [
    {
     "name": "stdin",
     "output_type": "stream",
     "text": [
      "Inserisci quante N potenze vuoi calcolare: 10\n"
     ]
    },
    {
     "name": "stdout",
     "output_type": "stream",
     "text": [
      "Potenze di 2 minori di N:\n",
      "[1, 2, 4, 8, 16, 32, 64, 128, 256, 512]\n"
     ]
    }
   ],
   "source": [
    "#CICLO FOR\n",
    "\n",
    "N = int(input(\"Inserisci quante N potenze vuoi calcolare:\"))\n",
    "potenze_2 = []\n",
    "print (\"Potenze di 2 minori di N:\")\n",
    "\n",
    "for i in range(N):\n",
    "    potenze_2.append (2**i)\n",
    "    \n",
    "print(potenze_2)"
   ]
  },
  {
   "cell_type": "code",
   "execution_count": 36,
   "id": "4906038a-91fb-448a-8902-b3d4b3dfc193",
   "metadata": {},
   "outputs": [
    {
     "name": "stdout",
     "output_type": "stream",
     "text": [
      "Prime 100 potenze di 2:\n",
      "[1, 8, 64, 512, 4096, 32768, 262144, 2097152, 16777216, 134217728, 1073741824, 8589934592, 68719476736, 549755813888, 4398046511104, 35184372088832, 281474976710656, 2251799813685248, 18014398509481984, 144115188075855872, 1152921504606846976, 9223372036854775808, 73786976294838206464, 590295810358705651712, 4722366482869645213696, 37778931862957161709568, 302231454903657293676544, 2417851639229258349412352, 19342813113834066795298816, 154742504910672534362390528, 1237940039285380274899124224, 9903520314283042199192993792, 79228162514264337593543950336, 633825300114114700748351602688]\n"
     ]
    }
   ],
   "source": [
    "#CICLO FOR C0N RANGE(0,100,3)\n",
    "\n",
    "potenze_2 = []\n",
    "print (\"Prime 100 potenze di 2:\")\n",
    "for i in range(0,100,3):\n",
    "    potenze_2.append (2**i)\n",
    "    \n",
    "print(potenze_2)"
   ]
  },
  {
   "cell_type": "code",
   "execution_count": 37,
   "id": "3e7e09df-b965-4bbe-b3ef-1269fad52692",
   "metadata": {},
   "outputs": [
    {
     "name": "stdout",
     "output_type": "stream",
     "text": [
      "Prime 100 potenze di 2:\n",
      "[1, 8, 64, 512, 4096, 32768, 262144, 2097152, 16777216, 134217728, 1073741824, 8589934592, 68719476736, 549755813888, 4398046511104, 35184372088832, 281474976710656, 2251799813685248, 18014398509481984, 144115188075855872, 1152921504606846976, 9223372036854775808, 73786976294838206464, 590295810358705651712, 4722366482869645213696, 37778931862957161709568, 302231454903657293676544, 2417851639229258349412352, 19342813113834066795298816, 154742504910672534362390528, 1237940039285380274899124224, 9903520314283042199192993792, 79228162514264337593543950336, 633825300114114700748351602688]\n"
     ]
    }
   ],
   "source": [
    "#CICLO FOR ED IF RAGE(100)\n",
    "\n",
    "potenze_2 = []\n",
    "print (\"Prime 100 potenze di 2:\")\n",
    "\n",
    "for i in range (100):\n",
    "    if i%3 == 0:\n",
    "        potenze_2.append(2**i)\n",
    "    \n",
    "print(potenze_2)"
   ]
  },
  {
   "cell_type": "code",
   "execution_count": 38,
   "id": "ddd48342-c5d1-4e1b-8e92-ff2bf817436a",
   "metadata": {},
   "outputs": [
    {
     "name": "stdout",
     "output_type": "stream",
     "text": [
      "10\n"
     ]
    }
   ],
   "source": [
    "numeri = [4, 9, 5, 1, 7, 10, 2, 3]\n",
    "max = numeri [0]\n",
    "\n",
    "for n in numeri:\n",
    "    if n > max:\n",
    "        max = n\n",
    "        \n",
    "print(max)"
   ]
  },
  {
   "cell_type": "code",
   "execution_count": 39,
   "id": "98660bde-0627-42c9-9436-44ed3bd6fac8",
   "metadata": {},
   "outputs": [
    {
     "name": "stdout",
     "output_type": "stream",
     "text": [
      "40.0\n"
     ]
    }
   ],
   "source": [
    "eta_studenti = [20, 30, 40, 50, 60]\n",
    "eta_media = sum (eta_studenti) / len (eta_studenti)\n",
    "    \n",
    "print(eta_media)"
   ]
  },
  {
   "cell_type": "code",
   "execution_count": 40,
   "id": "80f95dc3-7589-4eab-981f-7467c565804c",
   "metadata": {},
   "outputs": [
    {
     "name": "stdout",
     "output_type": "stream",
     "text": [
      "40.0\n"
     ]
    }
   ],
   "source": [
    "#CICLO FOR\n",
    "\n",
    "eta_studenti = [20, 30, 40, 50, 60]\n",
    "eta_media = 0\n",
    "\n",
    "for eta in eta_studenti:\n",
    "    eta_media += eta\n",
    "    \n",
    "print(sum (eta_studenti) / len (eta_studenti))"
   ]
  },
  {
   "cell_type": "code",
   "execution_count": 41,
   "id": "77d90030-d7f2-432b-af8a-1af5e15a2427",
   "metadata": {},
   "outputs": [
    {
     "name": "stdout",
     "output_type": "stream",
     "text": [
      "70.0\n"
     ]
    }
   ],
   "source": [
    "#CICLO FOR\n",
    "\n",
    "guadagni = [100, 90, 70, 40, 50, 80, 90, 120, 80, 20, 50, 50]\n",
    "media_guadagni = 0\n",
    "\n",
    "for mensilita in guadagni:\n",
    "    media_guadagni += mensilita\n",
    "\n",
    "print(sum(guadagni)/12)"
   ]
  },
  {
   "cell_type": "code",
   "execution_count": 42,
   "id": "a30d82f8-6683-40a0-a8eb-c83759028d36",
   "metadata": {},
   "outputs": [
    {
     "name": "stdout",
     "output_type": "stream",
     "text": [
      "Media guadagni di 8 mensilita:\n",
      "80.0\n"
     ]
    }
   ],
   "source": [
    "#CICLO FOR\n",
    "\n",
    "guadagni = [100, 90, 70, 40, 50, 80, 90, 120]\n",
    "media_guadagni = 0\n",
    "print(\"Media guadagni di\", len(guadagni), \"mensilita:\")\n",
    "for mensilita in guadagni:\n",
    "    media_guadagni += mensilita\n",
    "\n",
    "print(sum(guadagni)/len(guadagni))"
   ]
  },
  {
   "cell_type": "code",
   "execution_count": 43,
   "id": "5fbffad6-b21d-42e8-89dd-ea9020e00d03",
   "metadata": {},
   "outputs": [
    {
     "name": "stdout",
     "output_type": "stream",
     "text": [
      "- Alex\n",
      "- Bob\n",
      "- Cindy\n",
      "- Dan\n",
      "- Emma\n",
      "- Faith\n",
      "- Grace\n",
      "- Henry\n"
     ]
    }
   ],
   "source": [
    "studenti = [\"Alex\", \"Bob\", \"Cindy\", \"Dan\", \"Emma\", \"Faith\", \"Grace\",\"Henry\"]\n",
    "\n",
    "for studente in studenti:\n",
    "    print(\"-\",studente)"
   ]
  },
  {
   "cell_type": "code",
   "execution_count": 44,
   "id": "12780627-0944-45ce-974e-6c9b52f343b3",
   "metadata": {},
   "outputs": [
    {
     "name": "stdout",
     "output_type": "stream",
     "text": [
      "Alex segue Cybersecurity,edizione 1\n",
      "Bob segue Data Analyst,edizione 2\n",
      "Cindy segue Backend,edizione 3\n",
      "Dan segue Frontend,edizione 2\n",
      "Emma segue Data Analyst,edizione 2\n",
      "Faith segue Backend,edizione 1\n",
      "Grace segue Frontend,edizione 3\n",
      "Henry segue Cybersecurity,edizione 3\n"
     ]
    }
   ],
   "source": [
    "studenti = [\"Alex\", \"Bob\", \"Cindy\", \"Dan\", \"Emma\", \"Faith\", \"Grace\",\"Hnry\"]\n",
    "corsi = [\"Cybersecurity\", \"Data Analyst\", \"Backend\", \"Frontend\", \"Data Analyst\", \"Backend\", \"Frontend\", \"Cybersecurity\"]\n",
    "edizioni = [1, 2, 3, 2, 2, 1, 3, 3]\n",
    "\n",
    "for studente, corso, edizione in zip(studenti, corsi, edizioni):\n",
    "    print (f'{studente} segue {corso},edizione {edizione}')"
   ]
  },
  {
   "cell_type": "code",
   "execution_count": 45,
   "id": "ce547d54-da22-4552-b602-343febded030",
   "metadata": {},
   "outputs": [
    {
     "name": "stdout",
     "output_type": "stream",
     "text": [
      "Albergo = 1\n",
      "Sedia = 1\n",
      "Borgo = 0\n",
      "Petalo = 1\n",
      "Belvedere = 4\n",
      "Semestre = 3\n",
      "Sosta = 0\n",
      "Orpello = 1\n",
      "Abete = 2\n"
     ]
    }
   ],
   "source": [
    "parole = [\"Albergo\", \"Sedia\", \"Borgo\", \"Petalo\", \"Belvedere\", \"Semestre\", \"Sosta\", \"Orpello\", \"Abete\"]\n",
    "lettera = \"e\"\n",
    "for parola in parole:\n",
    "    count = parola.count(lettera)\n",
    "    print (parola,\"=\",count)"
   ]
  },
  {
   "cell_type": "code",
   "execution_count": 46,
   "id": "43ed1751-0ff8-49a6-8fb2-26208279e9dc",
   "metadata": {},
   "outputs": [
    {
     "name": "stdout",
     "output_type": "stream",
     "text": [
      "Albergo = 1\n",
      "Sedia = 1\n",
      "Borgo = 0\n",
      "Petalo = 1\n",
      "Eremo = 2\n",
      "Belvedere = 4\n",
      "Semestre = 3\n",
      "Esteta = 2\n",
      "Sosta = 0\n",
      "Orpello = 1\n",
      "Abete = 2\n",
      "Orologio = 0\n",
      "Cesta = 1\n",
      "Ermellino = 2\n"
     ]
    }
   ],
   "source": [
    "parole = [\"Albergo\", \"Sedia\", \"Borgo\", \"Petalo\", \"Eremo\", \"Belvedere\", \"Semestre\", \"Esteta\", \"Sosta\", \"Orpello\",\n",
    "          \"Abete\", \"Orologio\", \"Cesta\", \"Ermellino\"]\n",
    "\n",
    "\n",
    "for parola in parole:\n",
    "    count = parola.upper().count('E')\n",
    "    print (parola,\"=\",count)"
   ]
  },
  {
   "cell_type": "code",
   "execution_count": 47,
   "id": "1cbd0c05-fbec-42c2-83b8-1b076fc4cc92",
   "metadata": {},
   "outputs": [
    {
     "name": "stdout",
     "output_type": "stream",
     "text": [
      "['ABCDEF95G01A123B', 'STUVWX95Z04A654E', 'DEFGHI95J06A987G']\n"
     ]
    }
   ],
   "source": [
    "cf = [\"ABCDEF95G01A123B\", \"GHIJKL91M02A321C\",\"MNOPQR89S03A456D\", \"STUVWX95Z04A654E\",\n",
    "            \"XYZABC01D05A789F\", \"DEFGHI95J06A987G\"]\n",
    "cf_95 = []\n",
    "\n",
    "for cfp in cf:\n",
    "    if \"95\" in cfp:\n",
    "        cf_95.append(cfp)\n",
    "        \n",
    "print(cf_95)"
   ]
  },
  {
   "cell_type": "code",
   "execution_count": 48,
   "id": "3e836757-69fe-4d9c-9780-ad35f9c8c2bc",
   "metadata": {},
   "outputs": [
    {
     "name": "stdout",
     "output_type": "stream",
     "text": [
      "ABCDEF\n",
      "GHIJKL\n",
      "MNOPQR\n",
      "STUVWX\n",
      "XYZABC\n",
      "DEFGHI\n"
     ]
    }
   ],
   "source": [
    "cf = [\"ABCDEF95G01A123B\", \"GHIJKL91M02A321C\",\"MNOPQR89S03A456D\", \"STUVWX95Z04A654E\",\n",
    "            \"XYZABC01D05A789F\", \"DEFGHI95J06A987G\"]\n",
    "\n",
    "for cfp in cf:\n",
    "    print(cfp[:6])"
   ]
  },
  {
   "cell_type": "code",
   "execution_count": 49,
   "id": "85e223d4-6ed1-4bc5-894c-9e75aa112620",
   "metadata": {},
   "outputs": [
    {
     "name": "stdout",
     "output_type": "stream",
     "text": [
      "Studenti che seguono una prima edizione:\n",
      "- Alex\n",
      "- Faith\n"
     ]
    }
   ],
   "source": [
    "studenti = [\"Alex\", \"Bob\", \"Cindy\", \"Dan\", \"Emma\", \"Faith\", \"Grace\", \"Henry\"]\n",
    "corsi = [\"Cybersecurity\", \"Data Analyst\", \"Backend\", \"Frontend\", \"Data Analyst\", \"Backend\", \"Frontend\", \"Cybersecurity\"]\n",
    "edizioni = [1, 2, 3, 2, 2, 1, 3, 3]\n",
    "print(\"Studenti che seguono una prima edizione:\")\n",
    "\n",
    "for studente, corso, edizione in zip(studenti, corsi, edizioni):\n",
    "    if edizione == 1:\n",
    "        print(\"-\",studente)"
   ]
  },
  {
   "cell_type": "code",
   "execution_count": null,
   "id": "d2707988-b3ca-4c8b-a5ef-e3a06b294f58",
   "metadata": {},
   "outputs": [],
   "source": [
    "'''studenti = [\"Alex\", \"Bob\", \"Cindy\", \"Dan\", \"Emma\", \"Faith\", \"Grace\", \"Henry\"]\n",
    "corsi = [\"Cybersecurity\", \"Data Analyst\", \"Backend\", \"Frontend\", \"Data Analyst\", \"Backend\", \"Frontend\", \"Cybersecurity\"]\n",
    "edizioni = [1, 2, 3, 2, 2, 1, 3, 3]\n",
    "   \n",
    "    Le tre liste a nostra disposizione rappresentano tre distinte tabelle, dove:\n",
    "    studenti= IDstudente, nomestudente\n",
    "    corsi= IDcorso, nomecorso\n",
    "    edizioni= IDedizione, IDstudente, IDcorso'''"
   ]
  },
  {
   "cell_type": "code",
   "execution_count": 52,
   "id": "5ebde96c-ac32-4705-812d-b7bb238dec3d",
   "metadata": {},
   "outputs": [
    {
     "name": "stdout",
     "output_type": "stream",
     "text": [
      "{'Ada': 'Punto', 'Ben': 'Multipla', 'Charlie': 'Golf', 'Debbie': 107} \n",
      " Auto Debbie: 107\n"
     ]
    }
   ],
   "source": [
    "proprietari_auto = {\"Ada\":\"Punto\",\"Ben\":\"Multipla\",\"Charlie\":\"Golf\",\"Debbie\":107}\n",
    "\n",
    "print(proprietari_auto,\"\\n\",\"Auto Debbie:\",proprietari_auto[\"Debbie\"])"
   ]
  },
  {
   "cell_type": "code",
   "execution_count": 53,
   "id": "c04356f2-37a3-4c4f-b963-08129dfd2b25",
   "metadata": {},
   "outputs": [
    {
     "name": "stdout",
     "output_type": "stream",
     "text": [
      "{'Ada': 'Punto', 'Charlie': 'Golf', 'Debbie': 107, 'Emily': 'A1', 'Fred': 'Octavia'}\n"
     ]
    }
   ],
   "source": [
    "proprietari_auto = {\"Ada\":\"Punto\",\"Ben\":\"Multipla\",\"Charlie\":\"Golf\",\"Debbie\":107}\n",
    "\n",
    "proprietari_auto [\"Emily\"] = \"A1\"\n",
    "proprietari_auto [\"Fred\"] = \"Octavia\"\n",
    "\n",
    "del proprietari_auto [\"Ben\"]\n",
    "\n",
    "print(proprietari_auto)"
   ]
  },
  {
   "cell_type": "code",
   "execution_count": 54,
   "id": "af2ef4ef-a155-4070-aa71-73566784f026",
   "metadata": {},
   "outputs": [
    {
     "name": "stdout",
     "output_type": "stream",
     "text": [
      "{'Ada': 'Punto', 'Ben': 'Polo', 'Charlie': 'Golf', 'Debbie': 107, 'Emily': 'A1', 'Fred': 'Octavia', 'Grace': 'Yaris', 'Hugh': 'Clio'}\n"
     ]
    }
   ],
   "source": [
    "proprietari_auto = {\"Ada\":\"Punto\",\"Ben\":\"Multipla\",\"Charlie\":\"Golf\",\"Debbie\":107, \"Emily\": \"A1\"}\n",
    "nuovi_proprietari = {\"Ben\": \"Polo\", \"Fred\": \"Octavia\", \"Grace\": \"Yaris\", \"Hugh\": \"Clio\"}\n",
    "\n",
    "proprietari_auto.update(nuovi_proprietari)\n",
    "\n",
    "print(proprietari_auto)\n",
    "\n",
    "#L'auto associata a Ben viene aggiornata/sostituita con il nuovo dato inserito.\n",
    "#Poiché il metodo .update sovrascrive il vecchio dato, qualora risconta corrispondenza nella chiave."
   ]
  },
  {
   "cell_type": "code",
   "execution_count": 55,
   "id": "9347d23a-82ee-42cf-b6e9-84b1d6fe4ca1",
   "metadata": {},
   "outputs": [
    {
     "name": "stdout",
     "output_type": "stream",
     "text": [
      "Hugh Clio\n",
      "Ada Punto\n",
      "Emily A1\n",
      "Debbie 107\n"
     ]
    }
   ],
   "source": [
    "dizionario_auto = {\"Ada\": \"Punto\", \"Ben\": \"Multipla\", \"Charlie\": \"Golf\", \"Debbie\": \"107\", \"Emily\": \"A1\", \"Fred\":\n",
    "                   \"Octavia\", \"Grace\": \"Yaris\", \"Hugh\": \"Clio\"}\n",
    "proprietari = [\"Hugh\",\"Ada\",\"Emily\",\"Debbie\"]\n",
    "for proprietario in proprietari:\n",
    "    if proprietario in dizionario_auto:\n",
    "        print(proprietario,dizionario_auto[proprietario])"
   ]
  },
  {
   "cell_type": "code",
   "execution_count": 56,
   "id": "f8bfe822-d3f1-4864-b180-dc65d5e8bb4e",
   "metadata": {},
   "outputs": [
    {
     "name": "stdout",
     "output_type": "stream",
     "text": [
      "Ada Punto\n",
      "Emily A1\n",
      "Jade non è nel dizionario!\n",
      "Ben Multipla\n",
      "Hugh Clio\n",
      "Kelly non è nel dizionario!\n",
      "Charlie Golf\n"
     ]
    }
   ],
   "source": [
    "dizionario_auto = {\"Ada\": \"Punto\", \"Ben\": \"Multipla\", \"Charlie\": \"Golf\", \"Debbie\": \"107\", \"Emily\": \"A1\", \"Fred\":\n",
    "                   \"Octavia\", \"Grace\": \"Yaris\", \"Hugh\": \"Clio\"}\n",
    "proprietari = [\"Ada\",\"Emily\",\"Jade\",\"Ben\",\"Hugh\",\"Kelly\",\"Charlie\"]\n",
    "\n",
    "for proprietario in proprietari:\n",
    "    if proprietario in dizionario_auto:\n",
    "        print(proprietario,dizionario_auto[proprietario])\n",
    "    else:\n",
    "        print(proprietario,\"non è nel dizionario!\")"
   ]
  },
  {
   "cell_type": "code",
   "execution_count": 57,
   "id": "53cc3bce-b432-49a6-83f1-c6fadff0ed2e",
   "metadata": {},
   "outputs": [
    {
     "name": "stdout",
     "output_type": "stream",
     "text": [
      "dict_keys(['a', 'zy', 'qop', 'ab', 'k', 'clap'])\n"
     ]
    }
   ],
   "source": [
    "diz = {\"a\": 121, \"zy\": 3774, \"qop\": 147726, \"ab\": 328, \"k\":12, \"clap\": 9}\n",
    "\n",
    "print(diz.keys())"
   ]
  },
  {
   "cell_type": "code",
   "execution_count": 58,
   "id": "66200726-c814-40eb-a785-10bfe05a8584",
   "metadata": {},
   "outputs": [
    {
     "name": "stdout",
     "output_type": "stream",
     "text": [
      "a\n",
      "zy\n",
      "qop\n",
      "ab\n",
      "k\n",
      "clap\n"
     ]
    }
   ],
   "source": [
    "diz = {\"a\": 121, \"zy\": 3774, \"qop\": 147726, \"ab\": 328, \"k\":12, \"clap\": 9}\n",
    "\n",
    "for key in diz.keys():\n",
    "    print(key)"
   ]
  },
  {
   "cell_type": "code",
   "execution_count": 59,
   "id": "57b93f22-f424-4552-acf5-29f77811528c",
   "metadata": {},
   "outputs": [
    {
     "name": "stdout",
     "output_type": "stream",
     "text": [
      "dict_values([121, 3774, 147726, 328, 12, 9])\n"
     ]
    }
   ],
   "source": [
    "diz = {\"a\": 121, \"zy\": 3774, \"qop\": 147726, \"ab\": 328, \"k\":12, \"clap\": 9}\n",
    "\n",
    "print(diz.values())"
   ]
  },
  {
   "cell_type": "code",
   "execution_count": 60,
   "id": "ec9e2d2c-91a9-4b28-9cba-74882876f080",
   "metadata": {},
   "outputs": [
    {
     "name": "stdout",
     "output_type": "stream",
     "text": [
      "121\n",
      "3774\n",
      "147726\n",
      "328\n",
      "12\n",
      "9\n"
     ]
    }
   ],
   "source": [
    "diz = {\"a\": 121, \"zy\": 3774, \"qop\": 147726, \"ab\": 328, \"k\":12, \"clap\": 9}\n",
    "\n",
    "for value in diz.values(): \n",
    "    print(value)"
   ]
  },
  {
   "cell_type": "code",
   "execution_count": 61,
   "id": "0aa63dcf-4aec-4296-bc11-b1075957278e",
   "metadata": {},
   "outputs": [
    {
     "name": "stdout",
     "output_type": "stream",
     "text": [
      "('a', 121)\n",
      "('zy', 3774)\n",
      "('qop', 147726)\n",
      "('ab', 328)\n",
      "('k', 12)\n",
      "('clap', 9)\n"
     ]
    }
   ],
   "source": [
    "diz = {\"a\": 121, \"zy\": 3774, \"qop\": 147726, \"ab\": 328, \"k\":12, \"clap\": 9}\n",
    "\n",
    "for item in diz.items(): \n",
    "    print(item)"
   ]
  },
  {
   "cell_type": "code",
   "execution_count": 62,
   "id": "cb144e8a-6c32-4244-b89e-4292b0be275d",
   "metadata": {},
   "outputs": [
    {
     "name": "stdout",
     "output_type": "stream",
     "text": [
      "dict_items([('a', 121), ('zy', 3774), ('qop', 147726), ('ab', 328), ('k', 12), ('clap', 9)])\n"
     ]
    }
   ],
   "source": [
    "diz = {\"a\": 121, \"zy\": 3774, \"qop\": 147726, \"ab\": 328, \"k\":12, \"clap\": 9}\n",
    "\n",
    "print(diz.items())"
   ]
  },
  {
   "cell_type": "code",
   "execution_count": 63,
   "id": "7fde8745-cb51-48da-9e90-e33e7e91ee18",
   "metadata": {},
   "outputs": [
    {
     "name": "stdout",
     "output_type": "stream",
     "text": [
      "Valore massimo: 147726 \n",
      "Valore minimo: 9 \n",
      "Somma dei valori: 151970\n"
     ]
    }
   ],
   "source": [
    "diz = {\"a\": 121, \"zy\": 3774, \"qop\": 147726, \"ab\": 328, \"k\":12, \"clap\": 9}\n",
    "max = 0\n",
    "min = [12,3774,147726,328,12,9]\n",
    "\n",
    "for value in diz.values(): \n",
    "    if value > max:\n",
    "        max = value\n",
    "    elif value < min[0]:\n",
    "        min = value\n",
    "        \n",
    "print(\"Valore massimo:\",max,\"\\nValore minimo:\",min,\"\\nSomma dei valori:\",sum(diz.values()))"
   ]
  },
  {
   "cell_type": "code",
   "execution_count": 64,
   "id": "58327371-93fa-4343-b12c-2b2d40396087",
   "metadata": {},
   "outputs": [
    {
     "name": "stdout",
     "output_type": "stream",
     "text": [
      "Ada guida una Punto\n",
      "Ben guida una Multipla\n",
      "Charlie guida una Golf\n",
      "Debbie guida una 107\n"
     ]
    }
   ],
   "source": [
    "dizionario_auto = {\"Ada\": \"Punto\", \"Ben\": \"Multipla\", \"Charlie\": \"Golf\", \"Debbie\": \"107\"}\n",
    "\n",
    "for proprietario,auto in dizionario_auto.items():\n",
    "    print(proprietario,\"guida una\",auto)"
   ]
  },
  {
   "cell_type": "code",
   "execution_count": 69,
   "id": "a5d2e5c1-18cf-4464-b1c3-71b9a369f4f7",
   "metadata": {},
   "outputs": [
    {
     "name": "stdout",
     "output_type": "stream",
     "text": [
      "Punto\n",
      "Golf\n",
      "107\n"
     ]
    }
   ],
   "source": [
    "dizionario_auto = {\"Ada\": \"Punto\", \"Ben\": \"Multipla\", \"Charlie\": \"Golf\", \"Debbie\": \"107\"}\n",
    "\n",
    "for auto in dizionario_auto.values():\n",
    "    if auto != \"Multipla\":\n",
    "        print(auto)"
   ]
  },
  {
   "cell_type": "code",
   "execution_count": 70,
   "id": "1dea9714-318a-452e-96e6-09dbf803f8c1",
   "metadata": {},
   "outputs": [
    {
     "name": "stdout",
     "output_type": "stream",
     "text": [
      "{'Ada': {'Funko Pop': 10, 'action figures': 5, 'manga': 35}, 'Ben': {'Funko Pop': 2, 'action figures': 6, 'manga': 40, 'graphic novels': 2}, 'Charlie': {'action figures': 31, 'graphic novels': 18}, 'Debbie': {'Funko Pop': 1, 'action figures': 2, 'manga': 25, 'graphic novels': 9}}\n"
     ]
    }
   ],
   "source": [
    "'''• Ada ha 10 Funko Pop, 5 action figures e 35 manga\n",
    "   • Ben ha 2 Funko Pop, 6 action figures, 40 manga e 2 graphic novels\n",
    "   • Charlie ha 31 action figures e 18 graphic novels\n",
    "   • Debbie ha 1 Funko Pop, 9 graphic novels, 25 manga e 2 action figures'''\n",
    "\n",
    "collezionisti = {\"Ada\": {\"Funko Pop\":10, \n",
    "                         \"action figures\":5,\n",
    "                         \"manga\":35},\n",
    "                 \"Ben\": {\"Funko Pop\":2, \n",
    "                         \"action figures\":6,\n",
    "                         \"manga\":40,\n",
    "                         \"graphic novels\":2},\n",
    "                 \"Charlie\": {\"action figures\":31,\n",
    "                             \"graphic novels\":18},\n",
    "                 \"Debbie\": {\"Funko Pop\":1,\n",
    "                            \"action figures\":2,\n",
    "                            \"manga\":25,\n",
    "                            \"graphic novels\":9}\n",
    "                }\n",
    "\n",
    "print(collezionisti)"
   ]
  },
  {
   "cell_type": "code",
   "execution_count": 71,
   "id": "8daf3bbb-b8b2-4d85-99ed-914756ba973b",
   "metadata": {},
   "outputs": [
    {
     "name": "stdout",
     "output_type": "stream",
     "text": [
      "{'Ada': {'Funko Pop': 10, 'action figures': 5, 'manga': 35}, 'Ben': {'Funko Pop': 2, 'action figures': 6, 'manga': 40, 'graphic novels': {'DC': 2}}, 'Charlie': {'action figures': 31, 'graphic novels': {'DC': 8, 'Marvel': 10}}, 'Debbie': {'Funko Pop': 1, 'action figures': 2, 'manga': 25, 'graphic novels': {'DC': 4, 'Marvel': 5}}}\n"
     ]
    }
   ],
   "source": [
    "'''\n",
    "• Ada ha 10 Funko Pop, 5 action figures e 35 manga\n",
    "• Ben ha 2 Funko Pop, 6 action figures, 40 manga e 2 graphic novels (entrambe\n",
    "della DC)\n",
    "• Charlie ha 31 action figures e 18 graphic novels (di cui 10 della Marvel e 8\n",
    "della DC)\n",
    "• Debbie ha 1 Funko Pop, 9 graphic novels (di cui 4 della DC e 5 della Marvel),\n",
    "25 manga e 2 action figures'''\n",
    "\n",
    "collezionisti = {\"Ada\": {\"Funko Pop\":10,\n",
    "                         \"action figures\":5,\n",
    "                         \"manga\":35},\n",
    "                 \"Ben\": {\"Funko Pop\":2,\n",
    "                         \"action figures\":6,\n",
    "                         \"manga\":40,\n",
    "                         \"graphic novels\":\n",
    "                         {\"DC\":2}\n",
    "                        },\n",
    "                 \"Charlie\": {\"action figures\":31,\n",
    "                             \"graphic novels\":\n",
    "                             {\"DC\":8,\"Marvel\":10}\n",
    "                            },\n",
    "                 \"Debbie\": {\"Funko Pop\":1,\n",
    "                            \"action figures\":2,\n",
    "                            \"manga\":25,\n",
    "                            \"graphic novels\":\n",
    "                            {\"DC\":4,\"Marvel\":5}\n",
    "                           }\n",
    "                }\n",
    "\n",
    "print(collezionisti)"
   ]
  },
  {
   "cell_type": "code",
   "execution_count": 73,
   "id": "94d07377-7fcb-4ed3-950d-e138672f52a6",
   "metadata": {},
   "outputs": [
    {
     "name": "stdout",
     "output_type": "stream",
     "text": [
      "1. quanti Funko Pop ha Ada?\n",
      "- 10\n",
      "2. quanti manga ha Ben?\n",
      "- 40\n",
      "3. quante graphic novels della Marvel ha Debbie?\n",
      "- 5\n",
      "4. quanti Funko Pop hanno Ada e Ben in tutto?\n",
      "- 12\n",
      "5. quanti manga hanno in tutto i collezionisti?\n",
      "- 100\n",
      "6. quante graphic novel della DC hanno in tutto i collezionisti?\n",
      "- 14\n",
      "7. quante graphic novel hanno in tutto i collezionisti?\n",
      "- 29\n"
     ]
    }
   ],
   "source": [
    "collezionisti = {\"Ada\": {\"Funko Pop\":10,\n",
    "                         \"action figures\":5,\n",
    "                         \"manga\":35},\n",
    "                 \"Ben\": {\"Funko Pop\":2,\n",
    "                         \"action figures\":6,\n",
    "                         \"manga\":40,\n",
    "                         \"graphic novels\":\n",
    "                         {\"DC\":2}\n",
    "                        },\n",
    "                 \"Charlie\": {\"action figures\":31,\n",
    "                             \"graphic novels\":\n",
    "                             {\"DC\":8,\"Marvel\":10}\n",
    "                            },\n",
    "                 \"Debbie\": {\"Funko Pop\":1,\n",
    "                            \"action figures\":2,\n",
    "                            \"manga\":25,\n",
    "                            \"graphic novels\":\n",
    "                            {\"DC\":4,\"Marvel\":5}\n",
    "                           }\n",
    "                }\n",
    "\n",
    "print(\"1. quanti Funko Pop ha Ada?\")\n",
    "\n",
    "print(\"-\",collezionisti[\"Ada\"][\"Funko Pop\"])\n",
    "\n",
    "\n",
    "print(\"2. quanti manga ha Ben?\")\n",
    "\n",
    "print(\"-\",collezionisti[\"Ben\"][\"manga\"])\n",
    "\n",
    "\n",
    "print(\"3. quante graphic novels della Marvel ha Debbie?\")\n",
    "\n",
    "print(\"-\",collezionisti[\"Debbie\"][\"graphic novels\"] [\"Marvel\"])\n",
    "\n",
    "\n",
    "print(\"4. quanti Funko Pop hanno Ada e Ben in tutto?\")\n",
    "\n",
    "totale = collezionisti[\"Ada\"].get(\"Funko Pop\")+collezionisti[\"Ben\"].get(\"Funko Pop\")\n",
    "\n",
    "print(\"-\",totale)\n",
    "\n",
    "\n",
    "print(\"5. quanti manga hanno in tutto i collezionisti?\")\n",
    "\n",
    "totale_manga = 0\n",
    "\n",
    "for collezionista in collezionisti.values():\n",
    "    totale_manga += collezionista.get(\"manga\",0)\n",
    "        \n",
    "print(\"-\",totale_manga)\n",
    "\n",
    "\n",
    "print(\"6. quante graphic novel della DC hanno in tutto i collezionisti?\")\n",
    "\n",
    "totale_DC = 0\n",
    "\n",
    "for collezionista in collezionisti.values():\n",
    "    graphic_novels= collezionista.get(\"graphic novels\",{})\n",
    "    totale_DC += graphic_novels.get(\"DC\",0)\n",
    "        \n",
    "print(\"-\",totale_DC)\n",
    "\n",
    "\n",
    "print(\"7. quante graphic novel hanno in tutto i collezionisti?\")\n",
    "\n",
    "totale_graphicnovel = 0\n",
    "\n",
    "for collezionista in collezionisti.values():\n",
    "    graphicnovel = collezionista.get(\"graphic novels\",{})\n",
    "    totale_graphicnovel += sum(graphicnovel.values())\n",
    "        \n",
    "print(\"-\",totale_graphicnovel)"
   ]
  }
 ],
 "metadata": {
  "kernelspec": {
   "display_name": "Python 3 (ipykernel)",
   "language": "python",
   "name": "python3"
  },
  "language_info": {
   "codemirror_mode": {
    "name": "ipython",
    "version": 3
   },
   "file_extension": ".py",
   "mimetype": "text/x-python",
   "name": "python",
   "nbconvert_exporter": "python",
   "pygments_lexer": "ipython3",
   "version": "3.10.9"
  }
 },
 "nbformat": 4,
 "nbformat_minor": 5
}
