{
 "cells": [
  {
   "cell_type": "code",
   "execution_count": 1,
   "id": "9d282035-b0b0-4c11-b7e2-f9da233d9d4d",
   "metadata": {},
   "outputs": [],
   "source": [
    "Studenti = 25"
   ]
  },
  {
   "cell_type": "code",
   "execution_count": 2,
   "id": "8721b5c7-555f-4a10-99de-3ac9d5914d70",
   "metadata": {},
   "outputs": [
    {
     "name": "stdout",
     "output_type": "stream",
     "text": [
      "25\n"
     ]
    }
   ],
   "source": [
    "print ( Studenti )"
   ]
  },
  {
   "cell_type": "code",
   "execution_count": 3,
   "id": "c5b29c9a-5ee1-4145-af83-0ef70e65fa47",
   "metadata": {},
   "outputs": [],
   "source": [
    "Studenti2 = 3"
   ]
  },
  {
   "cell_type": "code",
   "execution_count": 4,
   "id": "19bbcf86-4f42-496b-b310-53e09cb1bbc8",
   "metadata": {},
   "outputs": [],
   "source": [
    "Studenti_Complessivi = Studenti + Studenti2"
   ]
  },
  {
   "cell_type": "code",
   "execution_count": 5,
   "id": "716acb0c-4adb-407d-ad87-f37b4ea31005",
   "metadata": {},
   "outputs": [
    {
     "name": "stdout",
     "output_type": "stream",
     "text": [
      "28\n"
     ]
    }
   ],
   "source": [
    "print (Studenti_Complessivi)"
   ]
  },
  {
   "cell_type": "code",
   "execution_count": 6,
   "id": "db945029-96e1-491c-90c4-d9aef2c9d387",
   "metadata": {},
   "outputs": [],
   "source": [
    "Numerazione = [0, 1, 2, 3, 4, 5]"
   ]
  },
  {
   "cell_type": "code",
   "execution_count": 7,
   "id": "ca8d23d4-2796-49ac-8501-bfc5306ed425",
   "metadata": {},
   "outputs": [],
   "source": [
    "Num = Numerazione"
   ]
  },
  {
   "cell_type": "code",
   "execution_count": 9,
   "id": "e2bd6717-4ac6-4551-ad6e-6f858f08382b",
   "metadata": {},
   "outputs": [
    {
     "name": "stdout",
     "output_type": "stream",
     "text": [
      "[0, 1, 2, 3, 4, 5]\n"
     ]
    }
   ],
   "source": [
    "print (Num)"
   ]
  },
  {
   "cell_type": "code",
   "execution_count": 10,
   "id": "78d95d1b-6cf6-47c8-884f-9ede71f9a521",
   "metadata": {},
   "outputs": [],
   "source": [
    "Titoli = [ 'Il Lato Positivo', 'One Day', 'IT']"
   ]
  },
  {
   "cell_type": "code",
   "execution_count": 11,
   "id": "044b49e7-28bf-4f61-b9ec-c8954ae5db4b",
   "metadata": {},
   "outputs": [],
   "source": [
    "Film = Titoli"
   ]
  },
  {
   "cell_type": "code",
   "execution_count": 12,
   "id": "b5b9fb60-0105-4d3b-bac5-e3a58cfdb46b",
   "metadata": {},
   "outputs": [
    {
     "name": "stdout",
     "output_type": "stream",
     "text": [
      "['Il Lato Positivo', 'One Day', 'IT']\n"
     ]
    }
   ],
   "source": [
    "print (Film)"
   ]
  },
  {
   "cell_type": "code",
   "execution_count": null,
   "id": "3bcb20f6-b188-45a7-821c-a815c725c6c6",
   "metadata": {},
   "outputs": [],
   "source": []
  }
 ],
 "metadata": {
  "kernelspec": {
   "display_name": "Python 3 (ipykernel)",
   "language": "python",
   "name": "python3"
  },
  "language_info": {
   "codemirror_mode": {
    "name": "ipython",
    "version": 3
   },
   "file_extension": ".py",
   "mimetype": "text/x-python",
   "name": "python",
   "nbconvert_exporter": "python",
   "pygments_lexer": "ipython3",
   "version": "3.10.9"
  }
 },
 "nbformat": 4,
 "nbformat_minor": 5
}
