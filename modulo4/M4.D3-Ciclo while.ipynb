{
 "cells": [
  {
   "cell_type": "code",
   "execution_count": 1,
   "id": "b9460c28-d37f-40aa-876f-bc95f7197c10",
   "metadata": {},
   "outputs": [
    {
     "name": "stdout",
     "output_type": "stream",
     "text": [
      "E\n",
      "p\n",
      "i\n",
      "c\n",
      "o\n",
      "d\n",
      "e\n"
     ]
    }
   ],
   "source": [
    "nome_scuola = 'Epicode'\n",
    "index = 0\n",
    "\n",
    "while index < len(nome_scuola):\n",
    "    print(nome_scuola[index])\n",
    "    index +=1"
   ]
  },
  {
   "cell_type": "code",
   "execution_count": 2,
   "id": "6fa4bb9b-8121-4a8b-8004-5045ee2d5973",
   "metadata": {},
   "outputs": [
    {
     "name": "stdout",
     "output_type": "stream",
     "text": [
      "0\n",
      "1\n",
      "2\n",
      "3\n",
      "4\n",
      "5\n",
      "6\n",
      "7\n",
      "8\n",
      "9\n",
      "10\n",
      "11\n",
      "12\n",
      "13\n",
      "14\n",
      "15\n",
      "16\n",
      "17\n",
      "18\n",
      "19\n",
      "20\n"
     ]
    }
   ],
   "source": [
    "num = 0\n",
    "\n",
    "while num <21:\n",
    "    print(num)\n",
    "    num +=1"
   ]
  },
  {
   "cell_type": "code",
   "execution_count": 3,
   "id": "cc3c15af-6036-4a5a-ba6f-a93e43e8a527",
   "metadata": {},
   "outputs": [
    {
     "name": "stdout",
     "output_type": "stream",
     "text": [
      "prime 10 potenze di 2:\n",
      "2^0=1\n",
      "2^1=2\n",
      "2^2=4\n",
      "2^3=8\n",
      "2^4=16\n",
      "2^5=32\n",
      "2^6=64\n",
      "2^7=128\n",
      "2^8=256\n",
      "2^9=512\n",
      "2^10=1024\n"
     ]
    }
   ],
   "source": [
    "esponente = 0\n",
    "base = 1\n",
    "count = 0\n",
    "print('prime 10 potenze di 2:')\n",
    "\n",
    "while esponente <= 10:\n",
    "    print(f'2^{esponente}={base}')\n",
    "    esponente +=1\n",
    "    base *= 2\n",
    "    count +=1"
   ]
  },
  {
   "cell_type": "code",
   "execution_count": 4,
   "id": "140cc198-a2c5-410a-a79f-b2579f15d656",
   "metadata": {},
   "outputs": [
    {
     "name": "stdin",
     "output_type": "stream",
     "text": [
      "Fino a quale potenza di 2 vuoi visualizzare? 4\n"
     ]
    },
    {
     "name": "stdout",
     "output_type": "stream",
     "text": [
      "2^0=1\n",
      "2^1=2\n",
      "2^2=4\n",
      "2^3=8\n",
      "2^4=16\n"
     ]
    }
   ],
   "source": [
    "esponente = 0\n",
    "base = 1\n",
    "count = 0\n",
    "N = int(input('Fino a quale potenza di 2 vuoi visualizzare?'))\n",
    "\n",
    "while count <= N:\n",
    "    print(f'2^{esponente}={base}')\n",
    "    esponente +=1\n",
    "    base *=2\n",
    "    count +=1"
   ]
  },
  {
   "cell_type": "code",
   "execution_count": 5,
   "id": "363ca3a2-a909-4f2d-bc33-fb8b65f42ef2",
   "metadata": {},
   "outputs": [
    {
     "name": "stdout",
     "output_type": "stream",
     "text": [
      "Non abbiamo lo stesso numero di elementi nelle liste.\n"
     ]
    }
   ],
   "source": [
    "studenti = ['Alex', 'Bob', 'Cindy', 'Dan', 'Emma', 'Faith', 'Grace', 'Henry']\n",
    "corsi = ['Cybersecurity', 'Data Analyst', 'Backend', 'Frontend', 'Data Anlyst', 'Backend', 'Frontend']\n",
    "if len(studenti) == len(corsi):\n",
    "    print('Abbiamo tanti studenti quanti sono i corsi.')\n",
    "else:\n",
    "    print('Non abbiamo lo stesso numero di elementi nelle liste.')"
   ]
  },
  {
   "cell_type": "code",
   "execution_count": 7,
   "id": "cbb78ca4-7fb5-4103-8786-543416c45562",
   "metadata": {},
   "outputs": [
    {
     "name": "stdout",
     "output_type": "stream",
     "text": [
      "['Cybersecurity', 'Data Analyst', 'Backend', 'Frontend', 'Data Anlyst', 'Backend', 'Frontend', 'Cybersicurity']\n"
     ]
    }
   ],
   "source": [
    "studenti = ['Alex', 'Bob', 'Cindy', 'Dan', 'Emma', 'Faith', 'Grace', 'Henry']\n",
    "corsi = ['Cybersecurity', 'Data Analyst', 'Backend', 'Frontend', 'Data Anlyst', 'Backend', 'Frontend']\n",
    "\n",
    "corsi.append('Cybersicurity')\n",
    "             \n",
    "if len(studenti) == len(corsi):\n",
    "    print(corsi)\n",
    "else:\n",
    "    print('Non abbiamo lo stesso numero di elementi nelle liste.')"
   ]
  },
  {
   "cell_type": "code",
   "execution_count": 8,
   "id": "b6fc703f-c40f-4221-93f3-85db13036a5a",
   "metadata": {},
   "outputs": [
    {
     "name": "stdin",
     "output_type": "stream",
     "text": [
      "Scrivi una parola: ciao\n"
     ]
    },
    {
     "name": "stdout",
     "output_type": "stream",
     "text": [
      "c...o\n"
     ]
    }
   ],
   "source": [
    "parola = str(input('Scrivi una parola:'))\n",
    "\n",
    "if len(parola)> 6:\n",
    "    print(parola[:3]+'...'+ parola[-3:])\n",
    "else:\n",
    "    print(parola[:1]+'...'+ parola[-1:])"
   ]
  },
  {
   "cell_type": "code",
   "execution_count": 9,
   "id": "b0221e2c-8ecf-4dfa-bcad-25f50e3cba6a",
   "metadata": {},
   "outputs": [
    {
     "name": "stdin",
     "output_type": "stream",
     "text": [
      "Inserisci un numero: 12\n"
     ]
    },
    {
     "name": "stdout",
     "output_type": "stream",
     "text": [
      "12 = [2, 2, 3]\n"
     ]
    }
   ],
   "source": [
    "numero = int(input('Inserisci un numero:'))\n",
    "\n",
    "if numero == 1 or numero ==0:\n",
    "    print('Inserire un valore piu grande.')\n",
    "\n",
    "else:\n",
    "    numeroins = numero\n",
    "    divisore =2\n",
    "    fattori = []\n",
    "    \n",
    "    while divisore <= numero:\n",
    "        if numero % divisore ==0:\n",
    "            fattori.append(divisore)\n",
    "            numero=numero//divisore\n",
    "        \n",
    "        else:\n",
    "            divisore +=1\n",
    "    \n",
    "    if len(fattori)==1:\n",
    "        print(numeroins,'e un numero primo.')\n",
    "        \n",
    "    else:\n",
    "        print(numeroins,'=', fattori)"
   ]
  },
  {
   "cell_type": "code",
   "execution_count": null,
   "id": "06b24157-cff3-4c9b-8281-f7cb6e9c60af",
   "metadata": {},
   "outputs": [],
   "source": []
  }
 ],
 "metadata": {
  "kernelspec": {
   "display_name": "Python 3 (ipykernel)",
   "language": "python",
   "name": "python3"
  },
  "language_info": {
   "codemirror_mode": {
    "name": "ipython",
    "version": 3
   },
   "file_extension": ".py",
   "mimetype": "text/x-python",
   "name": "python",
   "nbconvert_exporter": "python",
   "pygments_lexer": "ipython3",
   "version": "3.10.9"
  }
 },
 "nbformat": 4,
 "nbformat_minor": 5
}
