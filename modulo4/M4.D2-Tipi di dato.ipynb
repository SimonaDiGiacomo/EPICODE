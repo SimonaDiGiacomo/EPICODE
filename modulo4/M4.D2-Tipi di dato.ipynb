{
 "cells": [
  {
   "cell_type": "code",
   "execution_count": 1,
   "id": "c69c7b2a-0284-4798-a2d9-910f8cde7926",
   "metadata": {},
   "outputs": [],
   "source": [
    "nome_scuola = 'EPICODE'"
   ]
  },
  {
   "cell_type": "code",
   "execution_count": 2,
   "id": "c5669faf-b9bb-4476-b37b-abc70ba04086",
   "metadata": {},
   "outputs": [
    {
     "name": "stdout",
     "output_type": "stream",
     "text": [
      "EPICODE\n"
     ]
    }
   ],
   "source": [
    "print(nome_scuola)"
   ]
  },
  {
   "cell_type": "code",
   "execution_count": 3,
   "id": "1aa17c52-1ec0-4ea1-ba60-c961443a80fa",
   "metadata": {},
   "outputs": [
    {
     "name": "stdout",
     "output_type": "stream",
     "text": [
      "E\n"
     ]
    }
   ],
   "source": [
    "print(nome_scuola [0])"
   ]
  },
  {
   "cell_type": "code",
   "execution_count": 4,
   "id": "d512eddf-70a7-45e6-961a-fe9e9345536f",
   "metadata": {},
   "outputs": [
    {
     "name": "stdout",
     "output_type": "stream",
     "text": [
      "EPI\n"
     ]
    }
   ],
   "source": [
    "print(nome_scuola [:3])"
   ]
  },
  {
   "cell_type": "code",
   "execution_count": 5,
   "id": "e12b86ff-d284-4f88-889d-53b7d2e90f84",
   "metadata": {},
   "outputs": [
    {
     "data": {
      "text/plain": [
       "'epicode'"
      ]
     },
     "execution_count": 5,
     "metadata": {},
     "output_type": "execute_result"
    }
   ],
   "source": [
    "nome_scuola.lower()"
   ]
  },
  {
   "cell_type": "code",
   "execution_count": 6,
   "id": "605c87c1-b747-40a1-97d5-20ace64cc285",
   "metadata": {},
   "outputs": [],
   "source": [
    "x = 10"
   ]
  },
  {
   "cell_type": "code",
   "execution_count": 7,
   "id": "b7c61d88-9aaa-4b6f-9a52-475829b5a26f",
   "metadata": {},
   "outputs": [],
   "source": [
    "x += 2 #x = x+2"
   ]
  },
  {
   "cell_type": "code",
   "execution_count": 8,
   "id": "2fcabffa-3963-4bb2-9dd5-f5f8de5aff29",
   "metadata": {},
   "outputs": [
    {
     "name": "stdout",
     "output_type": "stream",
     "text": [
      "12\n"
     ]
    }
   ],
   "source": [
    "print (x)"
   ]
  },
  {
   "cell_type": "code",
   "execution_count": 9,
   "id": "d1806bdd-06ae-491d-b244-369c2a7dd53d",
   "metadata": {},
   "outputs": [],
   "source": [
    "x *= 3 #x = x*3"
   ]
  },
  {
   "cell_type": "code",
   "execution_count": 10,
   "id": "ba31d89f-89f3-427f-97ba-3f4d0863c79b",
   "metadata": {},
   "outputs": [
    {
     "name": "stdout",
     "output_type": "stream",
     "text": [
      "36\n"
     ]
    }
   ],
   "source": [
    "print (x)"
   ]
  },
  {
   "cell_type": "code",
   "execution_count": 13,
   "id": "91936f82-9b3c-4ffa-a929-4b9e6cba4318",
   "metadata": {},
   "outputs": [
    {
     "name": "stdin",
     "output_type": "stream",
     "text": [
      "Quanti litrici sono nel serbatorio? 15 l\n"
     ]
    }
   ],
   "source": [
    "litri_serbatoio = input('Quanti litrici sono nel serbatorio?')"
   ]
  },
  {
   "cell_type": "code",
   "execution_count": 12,
   "id": "7768433f-4785-471d-94c0-d72291164569",
   "metadata": {},
   "outputs": [
    {
     "name": "stdin",
     "output_type": "stream",
     "text": [
      "Qaul è lefficienza di un litro in km? 12 km\n"
     ]
    }
   ],
   "source": [
    "efficienza_km = input ('Qaul è l''efficienza di un litro in km?') "
   ]
  },
  {
   "cell_type": "code",
   "execution_count": 14,
   "id": "d8145d69-81dc-4e73-9612-675ab689b823",
   "metadata": {},
   "outputs": [
    {
     "name": "stdin",
     "output_type": "stream",
     "text": [
      "Qual è il prezzo della benzina al litro? 1.68 €\n"
     ]
    }
   ],
   "source": [
    "prezzo = input ('Qual è il prezzo della benzina al litro?')"
   ]
  },
  {
   "cell_type": "code",
   "execution_count": 55,
   "id": "e411b4d3-b4c4-4539-a011-e756ba40237c",
   "metadata": {},
   "outputs": [],
   "source": [
    "Programma = f'''Se il prezzo della benzina a litro è di {prezzo} e l''efficienza è di {efficienza_km}. \n",
    "Quanto devo spendere per fare 100 km? (100/{efficienza_km})*{prezzo}'''"
   ]
  },
  {
   "cell_type": "code",
   "execution_count": 56,
   "id": "85d2634a-e6b4-49e1-b2b6-858ecc91d1fc",
   "metadata": {},
   "outputs": [
    {
     "data": {
      "text/plain": [
       "\"Se il prezzo della benzina a litro è di 1.68 € e l''efficienza è di 12 km. \\nQuanto devo spendere per fare 100 km? (100/12 km)*1.68 €\""
      ]
     },
     "execution_count": 56,
     "metadata": {},
     "output_type": "execute_result"
    }
   ],
   "source": [
    "Programma"
   ]
  },
  {
   "cell_type": "code",
   "execution_count": 23,
   "id": "e3f4716a-bc06-4760-a617-ea07ee6495e3",
   "metadata": {},
   "outputs": [
    {
     "name": "stdout",
     "output_type": "stream",
     "text": [
      "Se il prezzo della benzina a litro è di 1.68 € e l''efficienza è di 12 km. \n",
      "Quanto devo spendere per fare 100 km? (100/12 km)*1.68 €\n"
     ]
    }
   ],
   "source": [
    "print (Programma)"
   ]
  },
  {
   "cell_type": "code",
   "execution_count": 26,
   "id": "55bfdd9c-9235-4679-b7fb-f77491a2fb00",
   "metadata": {},
   "outputs": [],
   "source": [
    "Componente = 'Nitroglicerina'"
   ]
  },
  {
   "cell_type": "code",
   "execution_count": 28,
   "id": "5ef04b99-0d17-40c9-85a1-00bc4520fbe7",
   "metadata": {},
   "outputs": [
    {
     "data": {
      "text/plain": [
       "'Nit...ina'"
      ]
     },
     "execution_count": 28,
     "metadata": {},
     "output_type": "execute_result"
    }
   ],
   "source": [
    "Componente [:3]+'...'+ Componente[-3:]"
   ]
  },
  {
   "cell_type": "code",
   "execution_count": 30,
   "id": "a99d56ae-8bb3-4b54-9d4b-fe6470372f61",
   "metadata": {},
   "outputs": [],
   "source": [
    "Stringa = 'Epicode'"
   ]
  },
  {
   "cell_type": "code",
   "execution_count": 31,
   "id": "df32e8d4-75b8-4ab7-8d02-199203a2ffa8",
   "metadata": {},
   "outputs": [],
   "source": [
    "Stringa1 = 'Windows'"
   ]
  },
  {
   "cell_type": "code",
   "execution_count": 35,
   "id": "3363858b-5c97-4158-b3c7-2cd226e7b1fb",
   "metadata": {},
   "outputs": [],
   "source": [
    "Stringa2 = 'Excel'"
   ]
  },
  {
   "cell_type": "code",
   "execution_count": 34,
   "id": "f3f4482e-203e-4929-9259-9d4e58835b4f",
   "metadata": {},
   "outputs": [],
   "source": [
    "Stringa3 = 'Powerpoint'"
   ]
  },
  {
   "cell_type": "code",
   "execution_count": 36,
   "id": "94a92e76-3d0f-48ea-ba20-624cea2fd098",
   "metadata": {},
   "outputs": [],
   "source": [
    "Stringa4 = 'Word'"
   ]
  },
  {
   "cell_type": "code",
   "execution_count": 42,
   "id": "04f57c7e-7e53-4a7b-af17-9155f978b1c3",
   "metadata": {},
   "outputs": [
    {
     "data": {
      "text/plain": [
       "5"
      ]
     },
     "execution_count": 42,
     "metadata": {},
     "output_type": "execute_result"
    }
   ],
   "source": [
    "len(Stringa)"
   ]
  },
  {
   "cell_type": "code",
   "execution_count": 43,
   "id": "f7164950-41a8-45be-a665-1536bd107a70",
   "metadata": {},
   "outputs": [
    {
     "data": {
      "text/plain": [
       "7"
      ]
     },
     "execution_count": 43,
     "metadata": {},
     "output_type": "execute_result"
    }
   ],
   "source": [
    "len(Stringa1)"
   ]
  },
  {
   "cell_type": "code",
   "execution_count": 44,
   "id": "9cbe5447-5de0-4cd4-92a5-43a609bb693c",
   "metadata": {},
   "outputs": [
    {
     "data": {
      "text/plain": [
       "5"
      ]
     },
     "execution_count": 44,
     "metadata": {},
     "output_type": "execute_result"
    }
   ],
   "source": [
    "len(Stringa2)"
   ]
  },
  {
   "cell_type": "code",
   "execution_count": 45,
   "id": "ee062bb8-ad82-45f8-8b5a-4d381dafef0b",
   "metadata": {},
   "outputs": [
    {
     "data": {
      "text/plain": [
       "10"
      ]
     },
     "execution_count": 45,
     "metadata": {},
     "output_type": "execute_result"
    }
   ],
   "source": [
    "len(Stringa3)"
   ]
  },
  {
   "cell_type": "code",
   "execution_count": 46,
   "id": "61b74b90-16b5-4bd8-8b8b-55c62398203d",
   "metadata": {},
   "outputs": [
    {
     "data": {
      "text/plain": [
       "4"
      ]
     },
     "execution_count": 46,
     "metadata": {},
     "output_type": "execute_result"
    }
   ],
   "source": [
    "len(Stringa4)"
   ]
  },
  {
   "cell_type": "code",
   "execution_count": 47,
   "id": "8e724bd4-388e-412a-8a74-2721a2634e2d",
   "metadata": {},
   "outputs": [],
   "source": [
    "codici = ['knt-S1', 'cba-G9', 'qtr-Z8']"
   ]
  },
  {
   "cell_type": "code",
   "execution_count": 48,
   "id": "2862b743-4cae-48ae-945b-57017d19d0a1",
   "metadata": {},
   "outputs": [],
   "source": [
    "x, y, z = (codici [0][-3:],codici [1][-3:], codici [2][-3:])"
   ]
  },
  {
   "cell_type": "code",
   "execution_count": 49,
   "id": "ec6e6c7c-ed21-457f-889c-ff078dfdb5b6",
   "metadata": {},
   "outputs": [],
   "source": [
    "ccodici = [codici [0][-3:],codici [1][-3:], codici [2][-3:]]"
   ]
  },
  {
   "cell_type": "code",
   "execution_count": 57,
   "id": "3059740b-c0fb-4153-adf1-4e527f631e80",
   "metadata": {},
   "outputs": [],
   "source": [
    "growt = {'Tesla', 'Shopify', 'Block', 'Etsy', 'MercadoLibre', 'Netflix', 'Amazon', 'Meta Platform', 'Salesforce', 'Alphabet'}"
   ]
  },
  {
   "cell_type": "code",
   "execution_count": 58,
   "id": "db3e6095-147a-48d4-989c-ce90ebb42ad5",
   "metadata": {},
   "outputs": [],
   "source": [
    "value = {'Pfizer', 'Jhonson & Jhonson', 'JPMorgan Chase & Co.', 'Wells Fargo & Co.', 'Verizon Communications', 'BP PLC',\n",
    "         'LyondellBasell Industries', 'MetLife', 'Interactives Brokers Group', 'Intel'}"
   ]
  },
  {
   "cell_type": "code",
   "execution_count": 59,
   "id": "35eb2820-4137-4148-8d43-d753765ef9bd",
   "metadata": {},
   "outputs": [],
   "source": [
    "tech = {'Apple', 'Microsoft', 'Alphabet', 'Amazon', 'NVIDIA', 'Meta Platform', 'Tesla', 'Alibaba', 'Salesforce', 'Advenced Micro Devices',\n",
    "        'Intel', 'PayPal', 'Activisiot Blizzard', 'Electronics Arts', 'The Trade Desk', 'Zillow Group', 'Match Group', 'Yelp'}"
   ]
  },
  {
   "cell_type": "code",
   "execution_count": 60,
   "id": "5bfd9a36-990f-4d32-9707-f2b5f3d408c8",
   "metadata": {},
   "outputs": [],
   "source": [
    "healtcare = {'UnitedHealt Group', 'Jhonson & Jhonson', 'Eli Lilly & Co.', 'Novo Nordisk', 'Merck & Co.', 'Roche Holding', 'Pfizer',\n",
    "             'Thermo Fisher Scientific', 'Abbott Laboratories'}"
   ]
  },
  {
   "cell_type": "code",
   "execution_count": 61,
   "id": "47e16acd-cfb3-4744-af6c-f58fbca32847",
   "metadata": {},
   "outputs": [
    {
     "data": {
      "text/plain": [
       "{'Alphabet',\n",
       " 'Amazon',\n",
       " 'BP PLC',\n",
       " 'Block',\n",
       " 'Etsy',\n",
       " 'Intel',\n",
       " 'Interactives Brokers Group',\n",
       " 'JPMorgan Chase & Co.',\n",
       " 'Jhonson & Jhonson',\n",
       " 'LyondellBasell Industries',\n",
       " 'MercadoLibre',\n",
       " 'MetLife',\n",
       " 'Meta Platform',\n",
       " 'Netflix',\n",
       " 'Pfizer',\n",
       " 'Salesforce',\n",
       " 'Shopify',\n",
       " 'Tesla',\n",
       " 'Verizon Communications',\n",
       " 'Wells Fargo & Co.'}"
      ]
     },
     "execution_count": 61,
     "metadata": {},
     "output_type": "execute_result"
    }
   ],
   "source": [
    "growt|value"
   ]
  },
  {
   "cell_type": "code",
   "execution_count": 62,
   "id": "08804c5a-3ca1-43d2-90e2-5af15669c7d4",
   "metadata": {},
   "outputs": [
    {
     "data": {
      "text/plain": [
       "{'Alphabet', 'Amazon', 'Meta Platform', 'Salesforce', 'Tesla'}"
      ]
     },
     "execution_count": 62,
     "metadata": {},
     "output_type": "execute_result"
    }
   ],
   "source": [
    "growt&tech"
   ]
  },
  {
   "cell_type": "code",
   "execution_count": 63,
   "id": "354ed490-9ce7-4cc4-8647-b51c342e0934",
   "metadata": {},
   "outputs": [
    {
     "data": {
      "text/plain": [
       "{'Activisiot Blizzard',\n",
       " 'Advenced Micro Devices',\n",
       " 'Alibaba',\n",
       " 'Alphabet',\n",
       " 'Amazon',\n",
       " 'Apple',\n",
       " 'BP PLC',\n",
       " 'Electronics Arts',\n",
       " 'Intel',\n",
       " 'Interactives Brokers Group',\n",
       " 'JPMorgan Chase & Co.',\n",
       " 'Jhonson & Jhonson',\n",
       " 'LyondellBasell Industries',\n",
       " 'Match Group',\n",
       " 'MetLife',\n",
       " 'Meta Platform',\n",
       " 'Microsoft',\n",
       " 'NVIDIA',\n",
       " 'PayPal',\n",
       " 'Pfizer',\n",
       " 'Salesforce',\n",
       " 'Tesla',\n",
       " 'The Trade Desk',\n",
       " 'Verizon Communications',\n",
       " 'Wells Fargo & Co.',\n",
       " 'Yelp',\n",
       " 'Zillow Group'}"
      ]
     },
     "execution_count": 63,
     "metadata": {},
     "output_type": "execute_result"
    }
   ],
   "source": [
    "tech|value"
   ]
  },
  {
   "cell_type": "code",
   "execution_count": 64,
   "id": "dd2b9ed6-10de-469d-8e60-adfb94352e92",
   "metadata": {},
   "outputs": [
    {
     "data": {
      "text/plain": [
       "{'Abbott Laboratories',\n",
       " 'Eli Lilly & Co.',\n",
       " 'Merck & Co.',\n",
       " 'Novo Nordisk',\n",
       " 'Roche Holding',\n",
       " 'Thermo Fisher Scientific',\n",
       " 'UnitedHealt Group'}"
      ]
     },
     "execution_count": 64,
     "metadata": {},
     "output_type": "execute_result"
    }
   ],
   "source": [
    "healtcare-value"
   ]
  },
  {
   "cell_type": "code",
   "execution_count": 65,
   "id": "809737b8-1a89-4311-8cd3-965bcb9b45b2",
   "metadata": {},
   "outputs": [
    {
     "data": {
      "text/plain": [
       "set()"
      ]
     },
     "execution_count": 65,
     "metadata": {},
     "output_type": "execute_result"
    }
   ],
   "source": [
    "tech&healtcare"
   ]
  },
  {
   "cell_type": "code",
   "execution_count": 78,
   "id": "23b7c8c7-08d8-481e-836f-ef39f246940c",
   "metadata": {},
   "outputs": [
    {
     "data": {
      "text/plain": [
       "{'Alphabet', 'Amazon', 'Intel', 'Meta Platform', 'Salesforce', 'Tesla'}"
      ]
     },
     "execution_count": 78,
     "metadata": {},
     "output_type": "execute_result"
    }
   ],
   "source": [
    "tech&growt|tech&value"
   ]
  },
  {
   "cell_type": "code",
   "execution_count": null,
   "id": "dbf75991-2ece-4999-afc1-300cc351b3f5",
   "metadata": {},
   "outputs": [],
   "source": []
  },
  {
   "cell_type": "code",
   "execution_count": null,
   "id": "07f54ddc-7c99-4d09-87c6-b8e097dcffa2",
   "metadata": {},
   "outputs": [],
   "source": []
  },
  {
   "cell_type": "code",
   "execution_count": null,
   "id": "c7b33e2a-eb15-4d22-af4c-6523d5f38e7f",
   "metadata": {},
   "outputs": [],
   "source": []
  },
  {
   "cell_type": "code",
   "execution_count": null,
   "id": "92358e98-543d-4208-b80b-4e03cfcf42c4",
   "metadata": {},
   "outputs": [],
   "source": []
  },
  {
   "cell_type": "code",
   "execution_count": null,
   "id": "69f2d2ad-df98-4a54-839d-93e1e9a2d579",
   "metadata": {},
   "outputs": [],
   "source": []
  },
  {
   "cell_type": "code",
   "execution_count": null,
   "id": "4c0d4026-621d-4194-812c-19dd59f306a3",
   "metadata": {},
   "outputs": [],
   "source": []
  },
  {
   "cell_type": "code",
   "execution_count": null,
   "id": "8b371fd7-8cff-4209-be7b-ee397768c608",
   "metadata": {},
   "outputs": [],
   "source": []
  },
  {
   "cell_type": "code",
   "execution_count": null,
   "id": "cd32293e-3f1c-4ba4-88bc-d75a1df98a70",
   "metadata": {},
   "outputs": [],
   "source": []
  },
  {
   "cell_type": "code",
   "execution_count": null,
   "id": "57891f2e-af96-45a1-a17a-168802f68279",
   "metadata": {},
   "outputs": [],
   "source": []
  },
  {
   "cell_type": "code",
   "execution_count": null,
   "id": "28af254f-9c7f-4804-93b7-a4b419507f26",
   "metadata": {},
   "outputs": [],
   "source": []
  },
  {
   "cell_type": "code",
   "execution_count": null,
   "id": "b515d9b9-2b5e-42a3-ab5a-70c5a37a2664",
   "metadata": {},
   "outputs": [],
   "source": []
  },
  {
   "cell_type": "code",
   "execution_count": null,
   "id": "dd77cf51-6f6b-452c-be00-eda9b56dfc2c",
   "metadata": {},
   "outputs": [],
   "source": []
  },
  {
   "cell_type": "code",
   "execution_count": null,
   "id": "61bc93c1-f2b1-46fc-bd7e-2550ef55ba38",
   "metadata": {},
   "outputs": [],
   "source": []
  },
  {
   "cell_type": "code",
   "execution_count": null,
   "id": "d098a0fe-006d-4f0f-a89f-1e53230e9015",
   "metadata": {},
   "outputs": [],
   "source": []
  },
  {
   "cell_type": "code",
   "execution_count": null,
   "id": "cf6a1052-3c9e-44a7-a227-3f7891350ae4",
   "metadata": {},
   "outputs": [],
   "source": []
  }
 ],
 "metadata": {
  "kernelspec": {
   "display_name": "Python 3 (ipykernel)",
   "language": "python",
   "name": "python3"
  },
  "language_info": {
   "codemirror_mode": {
    "name": "ipython",
    "version": 3
   },
   "file_extension": ".py",
   "mimetype": "text/x-python",
   "name": "python",
   "nbconvert_exporter": "python",
   "pygments_lexer": "ipython3",
   "version": "3.10.9"
  }
 },
 "nbformat": 4,
 "nbformat_minor": 5
}
